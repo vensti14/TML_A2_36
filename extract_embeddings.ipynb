{
 "cells": [
  {
   "cell_type": "code",
   "execution_count": null,
   "id": "10941feb",
   "metadata": {},
   "outputs": [],
   "source": [
    "import requests\n",
    "import os\n",
    "import numpy as np\n",
    "import torch\n",
    "from torch.utils.data import DataLoader\n",
    "from torchvision import transforms\n",
    "from PIL import Image\n",
    "import matplotlib.pyplot as plt\n",
    "import json\n",
    "import io\n",
    "import sys\n",
    "import base64\n",
    "from torch.utils.data import Dataset\n",
    "from typing import Tuple\n",
    "import pickle\n",
    "import os\n",
    "\n",
    "\n",
    "# Your API client\n",
    "from api_client import APIClient\n",
    "\n",
    "# Paths & Token\n",
    "DATA_PATH   = \"data\\\\ModelStealingPub.pt\"\n",
    "OUTPUT_FILE = \"data\\\\public_embeddings.npz\"\n",
    "TOKEN       = \"INSERT_YOUR_TOKEN\"   # <-- your token\n"
   ]
  },
  {
   "cell_type": "code",
   "execution_count": null,
   "id": "8249e233",
   "metadata": {},
   "outputs": [],
   "source": [
    "# Initialize and launch the API client\n",
    "client = APIClient(token=TOKEN)\n",
    "client.launch()   # prints seed & port\n",
    "\n",
    "print(f\"⚙️  Session seed: {client.seed}\")\n",
    "print(f\"⚙️  Session port: {client.port}\")"
   ]
  },
  {
   "cell_type": "code",
   "execution_count": null,
   "id": "9ceda26c",
   "metadata": {},
   "outputs": [],
   "source": [
    "# for reusing port \n",
    "\n",
    "# client_a = APIClient(token=TOKEN)\n",
    "# client_a.seed = \"INSERT SEED\"   # replace with your actual seed\n",
    "# client_a.port = \"INSERT PORT\"      # replace with your actual port\n",
    "# print(f\"[API] Reusing session: seed={client.seed}, port={client.port}\")\n"
   ]
  },
  {
   "cell_type": "code",
   "execution_count": null,
   "id": "95130349",
   "metadata": {},
   "outputs": [],
   "source": [
    "# --- Begin: Dataset class definitions needed for torch.load ---\n",
    "import torch\n",
    "from torch.utils.data import Dataset\n",
    "from typing import Tuple\n",
    "\n",
    "class TaskDataset(Dataset):\n",
    "    def __init__(self, transform=None):\n",
    "        self.ids = []\n",
    "        self.imgs = []\n",
    "        self.labels = []\n",
    "        self.transform = transform\n",
    "\n",
    "    def __getitem__(self, index) -> Tuple[int, torch.Tensor, int]:\n",
    "        id_ = self.ids[index]\n",
    "        img = self.imgs[index]\n",
    "        if self.transform:\n",
    "            img = self.transform(img)\n",
    "        label = self.labels[index]\n",
    "        return id_, img, label\n",
    "\n",
    "    def __len__(self):\n",
    "        return len(self.ids)\n",
    "# --- End: Dataset class definitions ---\n"
   ]
  },
  {
   "cell_type": "code",
   "execution_count": null,
   "id": "739d82eb",
   "metadata": {},
   "outputs": [],
   "source": [
    "def model_stealing(images, port):\n",
    "    endpoint = \"/query\"\n",
    "    url = f\"http://34.122.51.94:{port}\" + endpoint\n",
    "    image_data = []\n",
    "    for img in images:\n",
    "        img_byte_arr = io.BytesIO()\n",
    "        img.save(img_byte_arr, format='PNG')\n",
    "        img_byte_arr.seek(0)\n",
    "        img_base64 = base64.b64encode(img_byte_arr.getvalue()).decode('utf-8')\n",
    "        image_data.append(img_base64)\n",
    "\n",
    "    payload = json.dumps(image_data)\n",
    "    response = requests.get(url, files={\"file\": payload}, headers={\"token\": TOKEN})\n",
    "    if response.status_code == 200:\n",
    "        representation = response.json()[\"representations\"]\n",
    "        return representation\n",
    "    else:\n",
    "        raise Exception(\n",
    "            f\"Model stealing failed. Code: {response.status_code}, content: {response.json()}\"\n",
    "        )"
   ]
  },
  {
   "cell_type": "code",
   "execution_count": null,
   "id": "acada4cb",
   "metadata": {},
   "outputs": [],
   "source": [
    "# Load the .pt public dataset\n",
    "dataset = torch.load(\"F:\\\\TML_model_stealing\\\\TML25_A2_39\\\\data\\\\ModelStealingPub.pt\", weights_only=False)\n",
    "print(\"Dataset length:\", len(dataset.ids))\n",
    "\n",
    "# Show one sample image\n",
    "# Check the type of the image\n",
    "img = dataset.imgs[15]\n",
    "if isinstance(img, torch.Tensor):\n",
    "    to_pil = transforms.ToPILImage()\n",
    "    img = to_pil(img)\n",
    "elif not isinstance(img, Image.Image):\n",
    "    raise TypeError(f\"Unexpected type: {type(img)}\")\n",
    "\n",
    "plt.imshow(img)\n",
    "plt.title(f\"Sample from dataset\")\n",
    "plt.axis('off')\n"
   ]
  },
  {
   "cell_type": "code",
   "execution_count": null,
   "id": "92edc1eb",
   "metadata": {},
   "outputs": [],
   "source": [
    "import random\n",
    "import numpy as np\n",
    "import matplotlib.pyplot as plt\n",
    "\n",
    "# Pick 1000 random image indices\n",
    "sample_idxs = random.sample(range(len(dataset.imgs)), 1000)\n",
    "sample_images = [dataset.imgs[i] for i in sample_idxs]\n",
    "\n",
    "# Query the API using your function\n",
    "embs = model_stealing(sample_images, port=\"9732\")  # your new port\n",
    "embs = np.array(embs, dtype=np.float32)\n",
    "\n",
    "# Print shape\n",
    "print(\"✅ Received embeddings:\", embs.shape)\n",
    "\n",
    "# Plot histogram of one embedding\n",
    "plt.hist(embs[0], bins=50)\n",
    "plt.title(\"Histogram of 1st embedding vector\")\n",
    "plt.grid(True)\n",
    "plt.show()\n"
   ]
  },
  {
   "cell_type": "code",
   "execution_count": null,
   "id": "08236b5b",
   "metadata": {},
   "outputs": [],
   "source": []
  }
 ],
 "metadata": {
  "kernelspec": {
   "display_name": "Python 3",
   "language": "python",
   "name": "python3"
  },
  "language_info": {
   "codemirror_mode": {
    "name": "ipython",
    "version": 3
   },
   "file_extension": ".py",
   "mimetype": "text/x-python",
   "name": "python",
   "nbconvert_exporter": "python",
   "pygments_lexer": "ipython3",
   "version": "3.12.0"
  }
 },
 "nbformat": 4,
 "nbformat_minor": 5
}
